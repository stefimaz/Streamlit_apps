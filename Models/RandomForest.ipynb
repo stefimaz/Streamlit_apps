{
 "cells": [
  {
   "cell_type": "code",
   "execution_count": 1,
   "id": "bcaa21e5",
   "metadata": {},
   "outputs": [],
   "source": [
    "import pandas as pd\n",
    "import numpy as np\n",
    "import os\n",
    "import pickle"
   ]
  },
  {
   "cell_type": "code",
   "execution_count": 2,
   "id": "2ffbbe28",
   "metadata": {},
   "outputs": [
    {
     "name": "stdout",
     "output_type": "stream",
     "text": [
      "(224, 23)\n"
     ]
    },
    {
     "data": {
      "text/html": [
       "<div>\n",
       "<style scoped>\n",
       "    .dataframe tbody tr th:only-of-type {\n",
       "        vertical-align: middle;\n",
       "    }\n",
       "\n",
       "    .dataframe tbody tr th {\n",
       "        vertical-align: top;\n",
       "    }\n",
       "\n",
       "    .dataframe thead th {\n",
       "        text-align: right;\n",
       "    }\n",
       "</style>\n",
       "<table border=\"1\" class=\"dataframe\">\n",
       "  <thead>\n",
       "    <tr style=\"text-align: right;\">\n",
       "      <th></th>\n",
       "      <th>Team</th>\n",
       "      <th>Week</th>\n",
       "      <th>Result</th>\n",
       "      <th>Rec</th>\n",
       "      <th>Home</th>\n",
       "      <th>Opp</th>\n",
       "      <th>TmScore</th>\n",
       "      <th>OppScore</th>\n",
       "      <th>O_1stD</th>\n",
       "      <th>O_Tot_yd</th>\n",
       "      <th>...</th>\n",
       "      <th>D_1stD</th>\n",
       "      <th>D_Tot_Yd</th>\n",
       "      <th>D_P_Yd</th>\n",
       "      <th>D_R_Yd</th>\n",
       "      <th>D_TO</th>\n",
       "      <th>Offence</th>\n",
       "      <th>Defense</th>\n",
       "      <th>Sp.Tms</th>\n",
       "      <th>Prediction_LR</th>\n",
       "      <th>Prediction_ADA</th>\n",
       "    </tr>\n",
       "  </thead>\n",
       "  <tbody>\n",
       "    <tr>\n",
       "      <th>0</th>\n",
       "      <td>Buffalo Bills</td>\n",
       "      <td>1</td>\n",
       "      <td>1</td>\n",
       "      <td>1-0</td>\n",
       "      <td>1</td>\n",
       "      <td>Chicago Bears</td>\n",
       "      <td>34.0</td>\n",
       "      <td>14.0</td>\n",
       "      <td>18.0</td>\n",
       "      <td>386.0</td>\n",
       "      <td>...</td>\n",
       "      <td>24.0</td>\n",
       "      <td>322.0</td>\n",
       "      <td>188.0</td>\n",
       "      <td>134.0</td>\n",
       "      <td>2.0</td>\n",
       "      <td>21.58</td>\n",
       "      <td>0.85</td>\n",
       "      <td>-0.52</td>\n",
       "      <td>0.418034</td>\n",
       "      <td>0.025844</td>\n",
       "    </tr>\n",
       "    <tr>\n",
       "      <th>1</th>\n",
       "      <td>Buffalo Bills</td>\n",
       "      <td>2</td>\n",
       "      <td>1</td>\n",
       "      <td>2-0</td>\n",
       "      <td>0</td>\n",
       "      <td>Indianapolis Colts</td>\n",
       "      <td>27.0</td>\n",
       "      <td>24.0</td>\n",
       "      <td>21.0</td>\n",
       "      <td>371.0</td>\n",
       "      <td>...</td>\n",
       "      <td>22.0</td>\n",
       "      <td>354.0</td>\n",
       "      <td>245.0</td>\n",
       "      <td>109.0</td>\n",
       "      <td>2.0</td>\n",
       "      <td>7.11</td>\n",
       "      <td>-1.29</td>\n",
       "      <td>-3.09</td>\n",
       "      <td>0.418034</td>\n",
       "      <td>0.025844</td>\n",
       "    </tr>\n",
       "    <tr>\n",
       "      <th>2</th>\n",
       "      <td>Buffalo Bills</td>\n",
       "      <td>3</td>\n",
       "      <td>1</td>\n",
       "      <td>3-0</td>\n",
       "      <td>1</td>\n",
       "      <td>Tampa Bay Buccaneers</td>\n",
       "      <td>34.0</td>\n",
       "      <td>24.0</td>\n",
       "      <td>22.0</td>\n",
       "      <td>407.0</td>\n",
       "      <td>...</td>\n",
       "      <td>27.0</td>\n",
       "      <td>446.0</td>\n",
       "      <td>411.0</td>\n",
       "      <td>35.0</td>\n",
       "      <td>1.0</td>\n",
       "      <td>20.56</td>\n",
       "      <td>-15.15</td>\n",
       "      <td>3.43</td>\n",
       "      <td>0.418034</td>\n",
       "      <td>0.025844</td>\n",
       "    </tr>\n",
       "    <tr>\n",
       "      <th>3</th>\n",
       "      <td>Buffalo Bills</td>\n",
       "      <td>4</td>\n",
       "      <td>0</td>\n",
       "      <td>3-1</td>\n",
       "      <td>1</td>\n",
       "      <td>Arizona Cardinals</td>\n",
       "      <td>20.0</td>\n",
       "      <td>37.0</td>\n",
       "      <td>24.0</td>\n",
       "      <td>401.0</td>\n",
       "      <td>...</td>\n",
       "      <td>27.0</td>\n",
       "      <td>465.0</td>\n",
       "      <td>249.0</td>\n",
       "      <td>216.0</td>\n",
       "      <td>1.0</td>\n",
       "      <td>8.94</td>\n",
       "      <td>-21.72</td>\n",
       "      <td>-2.64</td>\n",
       "      <td>0.418034</td>\n",
       "      <td>0.025844</td>\n",
       "    </tr>\n",
       "    <tr>\n",
       "      <th>4</th>\n",
       "      <td>Buffalo Bills</td>\n",
       "      <td>5</td>\n",
       "      <td>1</td>\n",
       "      <td>4-1</td>\n",
       "      <td>0</td>\n",
       "      <td>Seattle Seahawks</td>\n",
       "      <td>26.0</td>\n",
       "      <td>17.0</td>\n",
       "      <td>24.0</td>\n",
       "      <td>476.0</td>\n",
       "      <td>...</td>\n",
       "      <td>22.0</td>\n",
       "      <td>354.0</td>\n",
       "      <td>262.0</td>\n",
       "      <td>92.0</td>\n",
       "      <td>2.0</td>\n",
       "      <td>13.76</td>\n",
       "      <td>-6.71</td>\n",
       "      <td>-0.05</td>\n",
       "      <td>0.418034</td>\n",
       "      <td>0.025844</td>\n",
       "    </tr>\n",
       "  </tbody>\n",
       "</table>\n",
       "<p>5 rows × 23 columns</p>\n",
       "</div>"
      ],
      "text/plain": [
       "            Team  Week Result  Rec  Home                   Opp  TmScore  \\\n",
       "0  Buffalo Bills     1      1  1-0     1         Chicago Bears     34.0   \n",
       "1  Buffalo Bills     2      1  2-0     0    Indianapolis Colts     27.0   \n",
       "2  Buffalo Bills     3      1  3-0     1  Tampa Bay Buccaneers     34.0   \n",
       "3  Buffalo Bills     4      0  3-1     1     Arizona Cardinals     20.0   \n",
       "4  Buffalo Bills     5      1  4-1     0      Seattle Seahawks     26.0   \n",
       "\n",
       "   OppScore  O_1stD  O_Tot_yd  ...  D_1stD  D_Tot_Yd  D_P_Yd  D_R_Yd  D_TO  \\\n",
       "0      14.0    18.0     386.0  ...    24.0     322.0   188.0   134.0   2.0   \n",
       "1      24.0    21.0     371.0  ...    22.0     354.0   245.0   109.0   2.0   \n",
       "2      24.0    22.0     407.0  ...    27.0     446.0   411.0    35.0   1.0   \n",
       "3      37.0    24.0     401.0  ...    27.0     465.0   249.0   216.0   1.0   \n",
       "4      17.0    24.0     476.0  ...    22.0     354.0   262.0    92.0   2.0   \n",
       "\n",
       "   Offence  Defense  Sp.Tms  Prediction_LR  Prediction_ADA  \n",
       "0    21.58     0.85   -0.52       0.418034        0.025844  \n",
       "1     7.11    -1.29   -3.09       0.418034        0.025844  \n",
       "2    20.56   -15.15    3.43       0.418034        0.025844  \n",
       "3     8.94   -21.72   -2.64       0.418034        0.025844  \n",
       "4    13.76    -6.71   -0.05       0.418034        0.025844  \n",
       "\n",
       "[5 rows x 23 columns]"
      ]
     },
     "execution_count": 2,
     "metadata": {},
     "output_type": "execute_result"
    }
   ],
   "source": [
    "path = (\"./resources/Team_df.csv\")\n",
    "com_data = pd.read_csv(path)\n",
    "print(com_data.shape)\n",
    "com_data.head()"
   ]
  },
  {
   "cell_type": "code",
   "execution_count": 3,
   "id": "39a15c07",
   "metadata": {},
   "outputs": [
    {
     "name": "stderr",
     "output_type": "stream",
     "text": [
      "/opt/anaconda3/envs/dev/lib/python3.7/site-packages/pandas/core/frame.py:2963: SettingWithCopyWarning: \n",
      "A value is trying to be set on a copy of a slice from a DataFrame.\n",
      "Try using .loc[row_indexer,col_indexer] = value instead\n",
      "\n",
      "See the caveats in the documentation: https://pandas.pydata.org/pandas-docs/stable/user_guide/indexing.html#returning-a-view-versus-a-copy\n",
      "  self[k1] = value[k2]\n"
     ]
    },
    {
     "data": {
      "text/html": [
       "<div>\n",
       "<style scoped>\n",
       "    .dataframe tbody tr th:only-of-type {\n",
       "        vertical-align: middle;\n",
       "    }\n",
       "\n",
       "    .dataframe tbody tr th {\n",
       "        vertical-align: top;\n",
       "    }\n",
       "\n",
       "    .dataframe thead th {\n",
       "        text-align: right;\n",
       "    }\n",
       "</style>\n",
       "<table border=\"1\" class=\"dataframe\">\n",
       "  <thead>\n",
       "    <tr style=\"text-align: right;\">\n",
       "      <th></th>\n",
       "      <th>TmScore</th>\n",
       "      <th>O_1stD</th>\n",
       "      <th>O_Tot_yd</th>\n",
       "      <th>O_P_Yd</th>\n",
       "      <th>O_R_Yd</th>\n",
       "      <th>O_TO</th>\n",
       "      <th>D_1stD</th>\n",
       "      <th>D_Tot_Yd</th>\n",
       "      <th>D_P_Yd</th>\n",
       "      <th>D_R_Yd</th>\n",
       "      <th>...</th>\n",
       "      <th>Opp_New Orleans Saints</th>\n",
       "      <th>Opp_New York Giants</th>\n",
       "      <th>Opp_New York Jets</th>\n",
       "      <th>Opp_Philadelphia Eagles</th>\n",
       "      <th>Opp_Pittsburgh Steelers</th>\n",
       "      <th>Opp_San Francisco 49ers</th>\n",
       "      <th>Opp_Seattle Seahawks</th>\n",
       "      <th>Opp_Tampa Bay Buccaneers</th>\n",
       "      <th>Opp_Tennessee Titans</th>\n",
       "      <th>Opp_Washington Football Team</th>\n",
       "    </tr>\n",
       "  </thead>\n",
       "  <tbody>\n",
       "    <tr>\n",
       "      <th>0</th>\n",
       "      <td>34.0</td>\n",
       "      <td>288.0</td>\n",
       "      <td>6176.0</td>\n",
       "      <td>4992.0</td>\n",
       "      <td>1184.0</td>\n",
       "      <td>16.0</td>\n",
       "      <td>384.0</td>\n",
       "      <td>5152.0</td>\n",
       "      <td>3008.0</td>\n",
       "      <td>2144.0</td>\n",
       "      <td>...</td>\n",
       "      <td>0</td>\n",
       "      <td>0</td>\n",
       "      <td>0</td>\n",
       "      <td>0</td>\n",
       "      <td>0</td>\n",
       "      <td>0</td>\n",
       "      <td>0</td>\n",
       "      <td>0</td>\n",
       "      <td>0</td>\n",
       "      <td>0</td>\n",
       "    </tr>\n",
       "    <tr>\n",
       "      <th>1</th>\n",
       "      <td>27.0</td>\n",
       "      <td>336.0</td>\n",
       "      <td>5936.0</td>\n",
       "      <td>4320.0</td>\n",
       "      <td>1616.0</td>\n",
       "      <td>32.0</td>\n",
       "      <td>352.0</td>\n",
       "      <td>5664.0</td>\n",
       "      <td>3920.0</td>\n",
       "      <td>1744.0</td>\n",
       "      <td>...</td>\n",
       "      <td>0</td>\n",
       "      <td>0</td>\n",
       "      <td>0</td>\n",
       "      <td>0</td>\n",
       "      <td>0</td>\n",
       "      <td>0</td>\n",
       "      <td>0</td>\n",
       "      <td>0</td>\n",
       "      <td>0</td>\n",
       "      <td>0</td>\n",
       "    </tr>\n",
       "    <tr>\n",
       "      <th>2</th>\n",
       "      <td>34.0</td>\n",
       "      <td>352.0</td>\n",
       "      <td>6512.0</td>\n",
       "      <td>5296.0</td>\n",
       "      <td>1216.0</td>\n",
       "      <td>16.0</td>\n",
       "      <td>432.0</td>\n",
       "      <td>7136.0</td>\n",
       "      <td>6576.0</td>\n",
       "      <td>560.0</td>\n",
       "      <td>...</td>\n",
       "      <td>0</td>\n",
       "      <td>0</td>\n",
       "      <td>0</td>\n",
       "      <td>0</td>\n",
       "      <td>0</td>\n",
       "      <td>0</td>\n",
       "      <td>0</td>\n",
       "      <td>1</td>\n",
       "      <td>0</td>\n",
       "      <td>0</td>\n",
       "    </tr>\n",
       "    <tr>\n",
       "      <th>3</th>\n",
       "      <td>20.0</td>\n",
       "      <td>384.0</td>\n",
       "      <td>6416.0</td>\n",
       "      <td>4480.0</td>\n",
       "      <td>1936.0</td>\n",
       "      <td>32.0</td>\n",
       "      <td>432.0</td>\n",
       "      <td>7440.0</td>\n",
       "      <td>3984.0</td>\n",
       "      <td>3456.0</td>\n",
       "      <td>...</td>\n",
       "      <td>0</td>\n",
       "      <td>0</td>\n",
       "      <td>0</td>\n",
       "      <td>0</td>\n",
       "      <td>0</td>\n",
       "      <td>0</td>\n",
       "      <td>0</td>\n",
       "      <td>0</td>\n",
       "      <td>0</td>\n",
       "      <td>0</td>\n",
       "    </tr>\n",
       "    <tr>\n",
       "      <th>4</th>\n",
       "      <td>26.0</td>\n",
       "      <td>384.0</td>\n",
       "      <td>7616.0</td>\n",
       "      <td>5728.0</td>\n",
       "      <td>1888.0</td>\n",
       "      <td>16.0</td>\n",
       "      <td>352.0</td>\n",
       "      <td>5664.0</td>\n",
       "      <td>4192.0</td>\n",
       "      <td>1472.0</td>\n",
       "      <td>...</td>\n",
       "      <td>0</td>\n",
       "      <td>0</td>\n",
       "      <td>0</td>\n",
       "      <td>0</td>\n",
       "      <td>0</td>\n",
       "      <td>0</td>\n",
       "      <td>1</td>\n",
       "      <td>0</td>\n",
       "      <td>0</td>\n",
       "      <td>0</td>\n",
       "    </tr>\n",
       "  </tbody>\n",
       "</table>\n",
       "<p>5 rows × 60 columns</p>\n",
       "</div>"
      ],
      "text/plain": [
       "   TmScore  O_1stD  O_Tot_yd  O_P_Yd  O_R_Yd  O_TO  D_1stD  D_Tot_Yd  D_P_Yd  \\\n",
       "0     34.0   288.0    6176.0  4992.0  1184.0  16.0   384.0    5152.0  3008.0   \n",
       "1     27.0   336.0    5936.0  4320.0  1616.0  32.0   352.0    5664.0  3920.0   \n",
       "2     34.0   352.0    6512.0  5296.0  1216.0  16.0   432.0    7136.0  6576.0   \n",
       "3     20.0   384.0    6416.0  4480.0  1936.0  32.0   432.0    7440.0  3984.0   \n",
       "4     26.0   384.0    7616.0  5728.0  1888.0  16.0   352.0    5664.0  4192.0   \n",
       "\n",
       "   D_R_Yd  ...  Opp_New Orleans Saints  Opp_New York Giants  \\\n",
       "0  2144.0  ...                       0                    0   \n",
       "1  1744.0  ...                       0                    0   \n",
       "2   560.0  ...                       0                    0   \n",
       "3  3456.0  ...                       0                    0   \n",
       "4  1472.0  ...                       0                    0   \n",
       "\n",
       "   Opp_New York Jets  Opp_Philadelphia Eagles  Opp_Pittsburgh Steelers  \\\n",
       "0                  0                        0                        0   \n",
       "1                  0                        0                        0   \n",
       "2                  0                        0                        0   \n",
       "3                  0                        0                        0   \n",
       "4                  0                        0                        0   \n",
       "\n",
       "   Opp_San Francisco 49ers  Opp_Seattle Seahawks  Opp_Tampa Bay Buccaneers  \\\n",
       "0                        0                     0                         0   \n",
       "1                        0                     0                         0   \n",
       "2                        0                     0                         1   \n",
       "3                        0                     0                         0   \n",
       "4                        0                     1                         0   \n",
       "\n",
       "   Opp_Tennessee Titans  Opp_Washington Football Team  \n",
       "0                     0                             0  \n",
       "1                     0                             0  \n",
       "2                     0                             0  \n",
       "3                     0                             0  \n",
       "4                     0                             0  \n",
       "\n",
       "[5 rows x 60 columns]"
      ]
     },
     "execution_count": 3,
     "metadata": {},
     "output_type": "execute_result"
    }
   ],
   "source": [
    "# get index of every team's data\n",
    "team_index = com_data['Team']\n",
    "\n",
    "# Remove Opponent, Score, Result\n",
    "rf_model_data = com_data[['Team', 'Opp', 'TmScore', 'O_1stD', 'O_Tot_yd', 'O_P_Yd', 'O_R_Yd', 'O_TO',\n",
    "                         'D_1stD', 'D_Tot_Yd', 'D_P_Yd', 'D_R_Yd', 'D_TO', 'Home','Prediction_LR','Prediction_ADA']]\n",
    "\n",
    "\n",
    "# change to season stats\n",
    "season_stats = ['O_1stD', 'O_Tot_yd', 'O_P_Yd', 'O_R_Yd', 'O_TO',\n",
    "                         'D_1stD', 'D_Tot_Yd', 'D_P_Yd', 'D_R_Yd', 'D_TO']\n",
    "\n",
    "rf_model_data[season_stats] = rf_model_data[season_stats] * 16\n",
    "\n",
    "#get indexs of every teams\n",
    "team_index = com_data['Team']\n",
    "\n",
    "rf_model_data = pd.get_dummies(rf_model_data)\n",
    "rf_model_data.head()"
   ]
  },
  {
   "cell_type": "markdown",
   "id": "7df218b9",
   "metadata": {},
   "source": [
    "## MODELING"
   ]
  },
  {
   "cell_type": "code",
   "execution_count": 4,
   "id": "a13c3a82",
   "metadata": {},
   "outputs": [
    {
     "name": "stderr",
     "output_type": "stream",
     "text": [
      "/opt/anaconda3/envs/dev/lib/python3.7/site-packages/ipykernel_launcher.py:13: DataConversionWarning: A column-vector y was passed when a 1d array was expected. Please change the shape of y to (n_samples,), for example using ravel().\n",
      "  del sys.path[0]\n"
     ]
    },
    {
     "name": "stdout",
     "output_type": "stream",
     "text": [
      "7.116543478260869\n"
     ]
    }
   ],
   "source": [
    "# Random forest\n",
    "from sklearn.model_selection import train_test_split\n",
    "from sklearn.ensemble import RandomForestRegressor\n",
    "from sklearn.metrics import r2_score, mean_squared_error, mean_absolute_error\n",
    "\n",
    "# Data processing\n",
    "X = rf_model_data.drop('TmScore', axis=1).values\n",
    "y = rf_model_data['TmScore'].values.reshape(-1, 1)\n",
    "X_train, X_test, y_train, y_test = train_test_split(X, y, test_size= 0.10)\n",
    "\n",
    "RF_model = RandomForestRegressor(n_estimators= 2000, random_state= 20)\n",
    "\n",
    "RF_model.fit(X_train, y_train)\n",
    "\n",
    "y_pred = RF_model.predict(X_test)\n",
    "\n",
    "print(mean_absolute_error(y_test, y_pred))"
   ]
  },
  {
   "cell_type": "code",
   "execution_count": 5,
   "id": "e55335ec-ab69-4d4a-9ed2-18ef72d14019",
   "metadata": {},
   "outputs": [],
   "source": [
    "Pkl_RF_model = 'RF_model.sav'\n",
    "pickle.dump(RF_model, open(Pkl_RF_model, 'wb'))"
   ]
  },
  {
   "cell_type": "code",
   "execution_count": 6,
   "id": "3fea6ee4",
   "metadata": {},
   "outputs": [],
   "source": [
    "pd.options.display.max_rows = None\n",
    "\n",
    "importance = RF_model.feature_importances_\n",
    "\n",
    "feature_names = rf_model_data.drop('TmScore', axis=1).columns\n",
    "\n",
    "d = {'Var_Name': feature_names, 'Imp': importance}\n",
    "df = pd.DataFrame(data=d)\n",
    "df = df.sort_values(by= ['Imp'], ascending = False).reset_index(drop=True)\n",
    "df.head(15)\n",
    "\n",
    "# function that return the score of two teams playing\n",
    "\n",
    "pd.options.display.max_columns = None\n",
    "\n",
    "# Create playoff test dataset from season averages\n",
    "\n",
    "def Score_Predictor(home_team, away_team):\n",
    "    team1 = home_team\n",
    "    team2 = away_team\n",
    "    \n",
    "    team1_data = rf_model_data[com_data['Team'] == team1].drop('TmScore', axis=1).reset_index(drop=True)\n",
    "    team2_data = rf_model_data[com_data['Team'] == team2].drop('TmScore', axis=1).reset_index(drop=True)\n",
    "    \n",
    "    week_slice = slice(1,16)\n",
    "    \n",
    "    #1 Remove if no team names\n",
    "    team1_test = pd.DataFrame(team1_data[week_slice].mean(axis=0)).T #select week to use as average\n",
    "    team1_test\n",
    "    opp_columns = team1_test.filter(like='Opp').columns\n",
    "    \n",
    "    team1_test[opp_columns] = 0\n",
    "    team1_test['Opp_' + team2] = 1\n",
    "    team1_test['Home'] = 1\n",
    "    \n",
    "    #2\n",
    "    team2_test = pd.DataFrame(team2_data[week_slice].mean(axis=0)).T #select week to use as average\n",
    "    opp_columns = team2_test.filter(like='Opp').columns\n",
    "    \n",
    "    team2_test[opp_columns] = 0\n",
    "    team2_test['Opp_' + team1] = 1\n",
    "    team2_test['Home'] = 0 #remove home field advantage\n",
    "    \n",
    "    # head to head matchup\n",
    "    team1_test[['D_1stD','D_Tot_Yd','D_P_Yd','D_R_Yd','D_TO']] = team2_test[['O_1stD','O_Tot_yd','O_P_Yd','O_R_Yd','O_TO']]\n",
    "    team2_test[['D_1stD','D_Tot_Yd','D_P_Yd','D_R_Yd','D_TO']] = team1_test[['O_1stD','O_Tot_yd','O_P_Yd','O_R_Yd','O_TO']]\n",
    "    \n",
    "    X_Playoff_test = pd.concat([team1_test, team2_test])\n",
    "    X_Playoff_test.fillna(0, inplace = True) # added to address the NANs that was causing the error\n",
    "    \n",
    "    scores = RF_model.predict(X_Playoff_test)\n",
    "    print(team1, \"will score\", round(scores[0], 1))\n",
    "    print(team2, \"will score\", round(scores[1], 1))\n",
    "    \n",
    "    if scores[0] > scores[1]:\n",
    "        winner = team1\n",
    "    else:\n",
    "        winner = team2\n",
    "        \n",
    "    print(winner, \"are the WINNERS!!!\")\n",
    "    \n",
    "    return scores, winner\n",
    "    "
   ]
  },
  {
   "cell_type": "markdown",
   "id": "956befb3",
   "metadata": {},
   "source": [
    "# Potentially add for loop to insert the winner to next round (The names have to be in full names in score predicor) and add the seeding"
   ]
  },
  {
   "cell_type": "markdown",
   "id": "607130da",
   "metadata": {},
   "source": [
    "### NFC Playoff Round 1 "
   ]
  },
  {
   "cell_type": "code",
   "execution_count": 7,
   "id": "0ea06fef",
   "metadata": {},
   "outputs": [
    {
     "name": "stdout",
     "output_type": "stream",
     "text": [
      "Philadelphia Eagles will score 29.2\n",
      "Tampa Bay Buccaneers will score 26.9\n",
      "Philadelphia Eagles are the WINNERS!!!\n"
     ]
    }
   ],
   "source": [
    "scores, winner = Score_Predictor('Philadelphia Eagles', 'Tampa Bay Buccaneers')"
   ]
  },
  {
   "cell_type": "code",
   "execution_count": 7,
   "id": "b22f1f34",
   "metadata": {},
   "outputs": [
    {
     "name": "stdout",
     "output_type": "stream",
     "text": [
      "San Francisco 49ers will score 15.5\n",
      "Dallas Cowboys will score 15.1\n",
      "San Francisco 49ers are the WINNERS!!!\n"
     ]
    }
   ],
   "source": [
    "scores, winner = Score_Predictor('San Francisco 49ers', 'Dallas Cowboys')"
   ]
  },
  {
   "cell_type": "code",
   "execution_count": 8,
   "id": "5259e617",
   "metadata": {},
   "outputs": [
    {
     "name": "stdout",
     "output_type": "stream",
     "text": [
      "Arizona Cardinals will score 15.6\n",
      "Los Angeles Rams will score 15.3\n",
      "Arizona Cardinals are the WINNERS!!!\n"
     ]
    }
   ],
   "source": [
    "scores, winner = Score_Predictor('Arizona Cardinals', 'Los Angeles Rams')"
   ]
  },
  {
   "cell_type": "markdown",
   "id": "c5896016",
   "metadata": {},
   "source": [
    "### AFC Playoff Round 1 "
   ]
  },
  {
   "cell_type": "code",
   "execution_count": 9,
   "id": "d65bca36",
   "metadata": {},
   "outputs": [
    {
     "name": "stdout",
     "output_type": "stream",
     "text": [
      "Pittsburgh Steelers will score 15.1\n",
      "Kansas City Chiefs will score 15.4\n",
      "Kansas City Chiefs are the WINNERS!!!\n"
     ]
    }
   ],
   "source": [
    "scores, winner = Score_Predictor('Pittsburgh Steelers', 'Kansas City Chiefs')"
   ]
  },
  {
   "cell_type": "code",
   "execution_count": 10,
   "id": "b435d2a6",
   "metadata": {},
   "outputs": [
    {
     "name": "stdout",
     "output_type": "stream",
     "text": [
      "Las Vegas Raiders will score 15.4\n",
      "Cincinnati Bengals will score 15.4\n",
      "Las Vegas Raiders are the WINNERS!!!\n"
     ]
    }
   ],
   "source": [
    "scores, winner = Score_Predictor('Las Vegas Raiders', 'Cincinnati Bengals')"
   ]
  },
  {
   "cell_type": "code",
   "execution_count": 11,
   "id": "208aad61",
   "metadata": {},
   "outputs": [
    {
     "name": "stdout",
     "output_type": "stream",
     "text": [
      "Buffalo Bills will score 15.5\n",
      "New England Patriots will score 15.4\n",
      "Buffalo Bills are the WINNERS!!!\n"
     ]
    }
   ],
   "source": [
    "scores, winner = Score_Predictor('Buffalo Bills', 'New England Patriots')"
   ]
  },
  {
   "cell_type": "markdown",
   "id": "7b6c0c12",
   "metadata": {},
   "source": [
    "### NFC Playoff Round 2"
   ]
  },
  {
   "cell_type": "code",
   "execution_count": 12,
   "id": "f6b81e11",
   "metadata": {},
   "outputs": [
    {
     "name": "stdout",
     "output_type": "stream",
     "text": [
      "Buffalo Bills will score 15.5\n",
      "New England Patriots will score 15.4\n",
      "Buffalo Bills are the WINNERS!!!\n"
     ]
    }
   ],
   "source": [
    "scores, winner = Score_Predictor('Buffalo Bills', 'New England Patriots')"
   ]
  },
  {
   "cell_type": "code",
   "execution_count": 13,
   "id": "9d20ff31",
   "metadata": {},
   "outputs": [
    {
     "name": "stdout",
     "output_type": "stream",
     "text": [
      "Buffalo Bills will score 15.5\n",
      "New England Patriots will score 15.4\n",
      "Buffalo Bills are the WINNERS!!!\n"
     ]
    }
   ],
   "source": [
    "scores, winner = Score_Predictor('Buffalo Bills', 'New England Patriots')"
   ]
  },
  {
   "cell_type": "markdown",
   "id": "8742deb8",
   "metadata": {},
   "source": [
    "### NFC Playoff Round 2"
   ]
  },
  {
   "cell_type": "code",
   "execution_count": 14,
   "id": "49b778ed",
   "metadata": {},
   "outputs": [
    {
     "name": "stdout",
     "output_type": "stream",
     "text": [
      "Buffalo Bills will score 15.5\n",
      "New England Patriots will score 15.4\n",
      "Buffalo Bills are the WINNERS!!!\n"
     ]
    }
   ],
   "source": [
    "scores, winner = Score_Predictor('Buffalo Bills', 'New England Patriots')"
   ]
  },
  {
   "cell_type": "code",
   "execution_count": 15,
   "id": "d01c2531",
   "metadata": {},
   "outputs": [
    {
     "name": "stdout",
     "output_type": "stream",
     "text": [
      "Buffalo Bills will score 15.5\n",
      "New England Patriots will score 15.4\n",
      "Buffalo Bills are the WINNERS!!!\n"
     ]
    }
   ],
   "source": [
    "scores, winner = Score_Predictor('Buffalo Bills', 'New England Patriots')"
   ]
  },
  {
   "cell_type": "markdown",
   "id": "19c648af",
   "metadata": {},
   "source": [
    "### NFC Championship"
   ]
  },
  {
   "cell_type": "code",
   "execution_count": 16,
   "id": "beb4be96",
   "metadata": {},
   "outputs": [
    {
     "name": "stdout",
     "output_type": "stream",
     "text": [
      "Buffalo Bills will score 15.5\n",
      "New England Patriots will score 15.4\n",
      "Buffalo Bills are the WINNERS!!!\n"
     ]
    }
   ],
   "source": [
    "scores, winner = Score_Predictor('Buffalo Bills', 'New England Patriots')"
   ]
  },
  {
   "cell_type": "markdown",
   "id": "c76b4f42",
   "metadata": {},
   "source": [
    "### AFC Championship"
   ]
  },
  {
   "cell_type": "code",
   "execution_count": 17,
   "id": "5459b500",
   "metadata": {},
   "outputs": [
    {
     "name": "stdout",
     "output_type": "stream",
     "text": [
      "Buffalo Bills will score 15.5\n",
      "New England Patriots will score 15.4\n",
      "Buffalo Bills are the WINNERS!!!\n"
     ]
    }
   ],
   "source": [
    "scores, winner = Score_Predictor('Buffalo Bills', 'New England Patriots')"
   ]
  },
  {
   "cell_type": "markdown",
   "id": "a8feef18",
   "metadata": {},
   "source": [
    "### Suberbowl"
   ]
  },
  {
   "cell_type": "code",
   "execution_count": 18,
   "id": "5ef2a7e9",
   "metadata": {},
   "outputs": [
    {
     "name": "stdout",
     "output_type": "stream",
     "text": [
      "Buffalo Bills will score 15.5\n",
      "New England Patriots will score 15.4\n",
      "Buffalo Bills are the WINNERS!!!\n"
     ]
    }
   ],
   "source": [
    "scores, winner = Score_Predictor('Buffalo Bills', 'New England Patriots')"
   ]
  }
 ],
 "metadata": {
  "kernelspec": {
   "display_name": "Python 3 (ipykernel)",
   "language": "python",
   "name": "python3"
  },
  "language_info": {
   "codemirror_mode": {
    "name": "ipython",
    "version": 3
   },
   "file_extension": ".py",
   "mimetype": "text/x-python",
   "name": "python",
   "nbconvert_exporter": "python",
   "pygments_lexer": "ipython3",
   "version": "3.7.7"
  }
 },
 "nbformat": 4,
 "nbformat_minor": 5
}
